{
 "cells": [
  {
   "cell_type": "code",
   "execution_count": 10,
   "metadata": {
    "scrolled": true
   },
   "outputs": [],
   "source": [
    "\"\"\"\n",
    "Example of choropleth using geojson files.\n",
    "Based on by Mike Bostock's unemployment choropleth http://bl.ocks.org/mbostock/4060606\n",
    "\"\"\"\n",
    "\n",
    "import geoplotlib\n",
    "from geoplotlib.utils import BoundingBox\n",
    "from geoplotlib.colors import ColorMap\n",
    "import json\n",
    "%matplotlib inline\n",
    "\n",
    "\n",
    "# find the unemployment rate for the selected county, and convert it to color\n",
    "def get_color(properties):\n",
    "    key = str(int(properties['STATE'])) + properties['COUNTY']\n",
    "    if key in unemployment:\n",
    "        return cmap.to_color(unemployment.get(key), .15, 'lin')\n",
    "    else:\n",
    "        return [0, 0, 0, 0]\n",
    "\n",
    "\n",
    "with open('https://raw.githubusercontent.com/andrea-cuttone/geoplotlib/master/examples/data/unemployment.json') as fin:\n",
    "    unemployment = json.load(fin)\n",
    "\n",
    "cmap = ColorMap('Blues', alpha=255, levels=10)\n",
    "geoplotlib.geojson('data/gz_2010_us_050_00_20m.json', fill=True, color=get_color, f_tooltip=lambda properties: properties['NAME'])\n",
    "geoplotlib.geojson('data/gz_2010_us_050_00_20m.json', fill=False, color=[255, 255, 255, 64])\n",
    "geoplotlib.set_bbox(BoundingBox.USA)\n",
    "geoplotlib.show()"
   ]
  },
  {
   "cell_type": "code",
   "execution_count": 30,
   "metadata": {},
   "outputs": [
    {
     "ename": "SyntaxError",
     "evalue": "unexpected EOF while parsing (<ipython-input-30-d88f639766d2>, line 57)",
     "output_type": "error",
     "traceback": [
      "\u001b[0;36m  File \u001b[0;32m\"<ipython-input-30-d88f639766d2>\"\u001b[0;36m, line \u001b[0;32m57\u001b[0m\n\u001b[0;31m    # iplot( fig, filename='d3-cloropleth-m')\u001b[0m\n\u001b[0m                                             ^\u001b[0m\n\u001b[0;31mSyntaxError\u001b[0m\u001b[0;31m:\u001b[0m unexpected EOF while parsing\n"
     ]
    }
   ],
   "source": [
    "import plotly.plotly as py\n",
    "import pandas as pd\n",
    "from plotly.offline import download_plotlyjs,init_notebook_mode,plot, iplot\n",
    "init_notebook_mode()\n",
    "\n",
    "df = pd.read_csv('https://raw.githubusercontent.com/plotly/datasets/master/2011_us_ag_exports.csv')\n",
    "\n",
    "for col in df.columns:\n",
    "    df[col] = df[col].astype(str)\n",
    "\n",
    "scl = [[0.0, 'rgb(242,240,247)'],[0.2, 'rgb(218,218,235)'],[0.4, 'rgb(188,189,220)'],\\\n",
    "            [0.6, 'rgb(158,154,200)'],[0.8, 'rgb(117,107,177)'],[1.0, 'rgb(84,39,143)']]\n",
    "\n",
    "df['text'] = df['state'] + '<br>' +\\\n",
    "    'Beef '+df['beef']+' Dairy '+df['dairy']+'<br>'+\\\n",
    "    'Fruits '+df['total fruits']+' Veggies ' + df['total veggies']+'<br>'+\\\n",
    "    'Wheat '+df['wheat']+' Corn '+df['corn']\n",
    "\n",
    "data = [ dict(\n",
    "        type='choropleth',\n",
    "        colorscale = scl,\n",
    "        autocolorscale = False,\n",
    "        locations = df['code'],\n",
    "        z = df['total exports'].astype(float),\n",
    "        locationmode = 'USA-states',\n",
    "        text = df['text'],\n",
    "        marker = dict(\n",
    "            line = dict (\n",
    "                color = 'rgb(255,255,255)',\n",
    "                width = 2\n",
    "            ) ),\n",
    "        colorbar = dict(\n",
    "            title = \"Millions USD\")\n",
    "        ) ]\n",
    "\n",
    "\n",
    "layout = graph_objs.Layout(\n",
    "    height=600,\n",
    "    autosize=True,\n",
    "    hovermode='closest',\n",
    "    mapbox=dict(\n",
    "        layers=[\n",
    "            dict(\n",
    "                sourcetype = 'geojson',\n",
    "                source = 'http://eric.clst.org/wupl/Stuff/gz_2010_us_050_00_500k.json',\n",
    "                type = 'fill',\n",
    "                color = 'rgba(163,22,19,0.8)'\n",
    "            ),\n",
    "            dict(\n",
    "                sourcetype = 'geojson',\n",
    "                source = 'http://eric.clst.org/wupl/Stuff/gz_2010_us_050_00_500k.json',\n",
    "                type = 'fill',\n",
    "                color = 'rgba(40,0,113,0.8)'\n",
    "            )\n",
    "        ],    \n",
    "    \n",
    "    \n",
    "    \n",
    "    \n",
    "fig = dict( data=data, layout=layout )\n",
    "# iplot( fig, filename='d3-cloropl-m)"
   ]
  },
  {
   "cell_type": "code",
   "execution_count": null,
   "metadata": {
    "collapsed": true
   },
   "outputs": [],
   "source": []
  }
 ],
 "metadata": {
  "kernelspec": {
   "display_name": "Python 3",
   "language": "python",
   "name": "python3"
  },
  "language_info": {
   "codemirror_mode": {
    "name": "ipython",
    "version": 3
   },
   "file_extension": ".py",
   "mimetype": "text/x-python",
   "name": "python",
   "nbconvert_exporter": "python",
   "pygments_lexer": "ipython3",
   "version": "3.6.2"
  }
 },
 "nbformat": 4,
 "nbformat_minor": 2
}
